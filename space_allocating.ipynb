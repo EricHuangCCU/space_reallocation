{
 "cells": [
  {
   "cell_type": "code",
   "execution_count": 1,
   "metadata": {},
   "outputs": [],
   "source": [
    "import random"
   ]
  },
  {
   "cell_type": "code",
   "execution_count": 2,
   "metadata": {},
   "outputs": [],
   "source": [
    "OBJECT_NUM = 5  # number of object\n",
    "OBJECT_TYPE = 3  # number of obj type\n",
    "\n",
    "# assume container has size {30, 30, 30}\n",
    "CONTAINER_SIZE = 30\n",
    "\n",
    "# define a class called object\n",
    "class Object:\n",
    "    def __init__(self):\n",
    "        self.H = 0\n",
    "        self.W = 0\n",
    "        self.L = 0\n",
    "        self.type = 0\n",
    "\n",
    "    def set_value(self, h, w, l, t):\n",
    "        self.H = h\n",
    "        self.W = w\n",
    "        self.L = l\n",
    "        self.type = t\n",
    "\n",
    "    def show_volume(self):\n",
    "        return self.H * self.W * self.L\n",
    "\n",
    "    def show_type(self):\n",
    "        return self.type\n",
    "\n",
    "    def show_H(self):\n",
    "        return self.H\n",
    "\n",
    "    def show_W(self):\n",
    "        return self.W\n",
    "\n",
    "    def show_L(self):\n",
    "        return self.L"
   ]
  },
  {
   "cell_type": "code",
   "execution_count": 12,
   "metadata": {},
   "outputs": [
    {
     "name": "stdout",
     "output_type": "stream",
     "text": [
      "object 0 : H:7, W:3, L:1, tpye:0\n",
      "object 1 : H:9, W:2, L:3, tpye:1\n",
      "object 2 : H:1, W:7, L:2, tpye:1\n",
      "object 3 : H:10, W:8, L:7, tpye:2\n",
      "object 4 : H:4, W:9, L:4, tpye:2\n"
     ]
    }
   ],
   "source": [
    "random.seed()\n",
    "obj = []\n",
    "\n",
    "for _ in range(OBJECT_NUM):  \n",
    "    new_obj = Object()\n",
    "    h = random.randint(1, 10)\n",
    "    w = random.randint(1, 10)\n",
    "    l = random.randint(1, 10)\n",
    "    t = random.randint(0, OBJECT_TYPE - 1)\n",
    "    new_obj.set_value(h, w, l, t)\n",
    "    obj.append(new_obj)\n",
    "\n",
    "obj.sort(key=lambda x: x.show_type())\n",
    "\n",
    "index_end = 0\n",
    "for i in range(OBJECT_TYPE):\n",
    "    index_start = index_end\n",
    "\n",
    "    for j in range(OBJECT_NUM):\n",
    "        if obj[j].show_type() == i:\n",
    "            index_end += 1\n",
    "\n",
    "    obj[index_start:index_end] = sorted(obj[index_start:index_end], key=lambda x:x.show_volume(), reverse=True)\n",
    "    \n",
    "    index_start = index_end\n",
    "\n",
    "for i in range(OBJECT_NUM):\n",
    "    print(f\"object {i} : H:{obj[i].show_H()}, W:{obj[i].show_W()}, L:{obj[i].show_L()}, tpye:{obj[i].show_type()}\" )\n",
    "\n",
    "#將物件照著類型及體積大小做排序"
   ]
  },
  {
   "cell_type": "code",
   "execution_count": 13,
   "metadata": {},
   "outputs": [
    {
     "name": "stdout",
     "output_type": "stream",
     "text": [
      "[0, 0, 0], [7, 3, 1], type: 0\n",
      "[0, 0, 1], [9, 2, 4], type: 1\n",
      "[0, 2, 1], [1, 9, 3], type: 1\n",
      "[0, 0, 4], [10, 8, 11], type: 2\n",
      "[0, 8, 4], [4, 17, 8], type: 2\n",
      "\n",
      "\n"
     ]
    }
   ],
   "source": [
    "record = [] #紀錄放置的位置\n",
    "rest = [] #記錄放不進去的obj\n",
    "\n",
    "def fitting(obj):\n",
    "    for i in range(OBJECT_NUM):\n",
    "        #第一個起點為(0,0,0)\n",
    "        if len(record) == 0:\n",
    "            record.append([[0, 0, 0], [obj[i].show_H(), obj[i].show_W(), obj[i].show_L()], obj[i].show_type()])\n",
    "        else:            \n",
    "            #如果同type看能否往上疊或往前放\n",
    "            if obj[i].show_type() == obj[i-1].show_type() :\n",
    "                rec = record[-1]\n",
    "                #往上疊\n",
    "                if rec[1][1] - rec[0][1] >=obj[i].show_W() and rec[1][2] - rec[0][2] >=obj[i].show_L() and rec[1][0]+obj[i].show_H() <= CONTAINER_SIZE:\n",
    "                    record.append([[rec[1][0], rec[0][1], rec[0][2]], \n",
    "                                    [rec[1][0]+obj[i].show_H(), rec[0][1]+obj[i].show_W(), rec[0][2]+obj[i].show_L()], \n",
    "                                    obj[i].show_type()])\n",
    "                    \n",
    "                #往前疊\n",
    "                elif rec[1][0] - rec[0][0] >=obj[i].show_H() and rec[1][2] - rec[0][2] >=obj[i].show_L() and rec[1][1]+obj[i].show_W()<= CONTAINER_SIZE:\n",
    "                    record.append([[rec[0][0], rec[1][1], rec[0][2]], \n",
    "                                    [rec[0][0]+obj[i].show_H(), rec[1][1]+obj[i].show_W(), rec[0][2]+obj[i].show_L()], \n",
    "                                    obj[i].show_type()])\n",
    "                    \n",
    "                else:#都放不進去就先記錄起來\n",
    "                    rest.append([i, [obj[i].show_H(), obj[i].show_W(), obj[i].show_L()], obj[i].show_type()])\n",
    "            else:\n",
    "                #如果不同type的話，先考慮往旁邊放，旁邊沒空間再從record找空位放\n",
    "                max_L = 0\n",
    "                for j in record:    \n",
    "                    if j[1][2] > max_L:\n",
    "                        max_L = j[1][2] #找到前一個類型最長的物件並檢查是否還有空位塞在其旁邊\n",
    "                        temp_rec = j\n",
    "                        \n",
    "                if (CONTAINER_SIZE - max_L) >= obj[i].show_L():\n",
    "                    record.append([[temp_rec[0][0], temp_rec[0][1], temp_rec[1][2]], \n",
    "                                   [temp_rec[0][0]+obj[i].show_H(), temp_rec[0][1]+obj[i].show_W(), temp_rec[1][2]+obj[i].show_L()], \n",
    "                                   obj[i].show_type()])\n",
    "                else:\n",
    "                    #旁邊塞不下就找其他空位\n",
    "                    rec = record[-1]\n",
    "                    #往上疊\n",
    "                    if rec[1][1] - rec[0][1] >=obj[i].show_W() and rec[1][2] - rec[0][2] >=obj[i].show_L() and rec[1][0]+obj[i].show_H() <= CONTAINER_SIZE:\n",
    "                        record.append([[rec[1][0], rec[0][1], rec[0][2]], \n",
    "                                        [rec[1][0]+obj[i].show_H(), rec[0][1]+obj[i].show_W(), rec[0][2]+obj[i].show_L()], \n",
    "                                        obj[i].show_type()])\n",
    "\n",
    "                    #往前疊\n",
    "                    elif rec[1][0] - rec[0][0] >=obj[i].show_H() and rec[1][2] - rec[0][2] >=obj[i].show_L() and rec[1][1]+obj[i].show_W()<= CONTAINER_SIZE:\n",
    "                        record.append([[rec[0][0], rec[1][1], rec[0][2]], \n",
    "                                        [rec[0][0]+obj[i].show_H(), rec[1][1]+obj[i].show_W(), rec[0][2]+obj[i].show_L()], \n",
    "                                        obj[i].show_type()])\n",
    "\n",
    "                    else:#都放不進去就先記錄起來\n",
    "                        rest.append([i, [obj[i].show_H(), obj[i].show_W(), obj[i].show_L()], obj[i].show_type()])\n",
    "                    \n",
    "          \n",
    "                        \n",
    "fitting(obj)\n",
    "\n",
    "for a in record:\n",
    "    print(f\"{a[0]}, {a[1]}, type: {a[2]}\")\n",
    "\n",
    "print(\"\\n\")\n",
    "for b in rest:\n",
    "    print(f\"can't put object{b[0]}: {b[1]}, tpye: {b[2]}\")"
   ]
  },
  {
   "cell_type": "code",
   "execution_count": 11,
   "metadata": {},
   "outputs": [
    {
     "name": "stdout",
     "output_type": "stream",
     "text": [
      "0\n"
     ]
    }
   ],
   "source": []
  },
  {
   "cell_type": "code",
   "execution_count": null,
   "metadata": {},
   "outputs": [],
   "source": [
    "\n"
   ]
  }
 ],
 "metadata": {
  "kernelspec": {
   "display_name": "Python 3",
   "language": "python",
   "name": "python3"
  },
  "language_info": {
   "codemirror_mode": {
    "name": "ipython",
    "version": 3
   },
   "file_extension": ".py",
   "mimetype": "text/x-python",
   "name": "python",
   "nbconvert_exporter": "python",
   "pygments_lexer": "ipython3",
   "version": "3.11.1"
  }
 },
 "nbformat": 4,
 "nbformat_minor": 2
}
